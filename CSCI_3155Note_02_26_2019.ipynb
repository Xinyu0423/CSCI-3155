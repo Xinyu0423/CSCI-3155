{
 "cells": [
  {
   "cell_type": "markdown",
   "metadata": {},
   "source": [
    "$[function(x)]$(10)  \n",
    "[x+10]"
   ]
  },
  {
   "cell_type": "raw",
   "metadata": {},
   "source": [
    "let f=function(x)  \n",
    "    function(y)  \n",
    "        x+y  \n",
    "    in f(10)(20)\n",
    "\n",
    "Let(\"l\",e1,e2)\n",
    "e1:\n",
    "FuncDef(\"x\", FuncDef(\"y\",Plus(Ident(\"x\"),Ident(\"y\")))\n",
    "e2:\n"
   ]
  },
  {
   "cell_type": "raw",
   "metadata": {},
   "source": [
    "let x=10 in \n",
    "    let f=function(y) x+y in\n",
    "        let x=20 in \n",
    "            f(10)\n",
    "return 20"
   ]
  },
  {
   "cell_type": "code",
   "execution_count": null,
   "metadata": {},
   "outputs": [],
   "source": [
    "Value\n",
    "    Double\n",
    "    error\n",
    "    Closure(\"x\",expr,environment) //this is also Value\n",
    "                    //environment helps static scoping\n",
    "    \n",
    "    "
   ]
  },
  {
   "cell_type": "raw",
   "metadata": {},
   "source": []
  }
 ],
 "metadata": {
  "kernelspec": {
   "display_name": "Scala",
   "language": "scala",
   "name": "scala"
  },
  "language_info": {
   "codemirror_mode": "text/x-scala",
   "file_extension": ".scala",
   "mimetype": "text/x-scala",
   "name": "scala",
   "nbconvert_exporter": "script",
   "version": "2.12.8"
  }
 },
 "nbformat": 4,
 "nbformat_minor": 2
}
