{
 "cells": [
  {
   "cell_type": "code",
   "execution_count": 4,
   "metadata": {},
   "outputs": [
    {
     "name": "stdout",
     "output_type": "stream",
     "text": [
      "Rec Call\n",
      "Rec Call\n",
      "Rec Call\n",
      "Rec Call\n",
      "Rec Call\n",
      "Rec Call\n",
      "Rec Call\n",
      "Rec Call\n",
      "Rec Call\n",
      "Base case\n"
     ]
    },
    {
     "data": {
      "text/plain": [
       "defined \u001b[32mfunction\u001b[39m \u001b[36mfact\u001b[39m\n",
       "\u001b[36mres3_1\u001b[39m: \u001b[32mInt\u001b[39m = \u001b[32m3628800\u001b[39m"
      ]
     },
     "execution_count": 4,
     "metadata": {},
     "output_type": "execute_result"
    }
   ],
   "source": [
    "def fact(x:Int):Int={\n",
    "    if(x<=1){\n",
    "        println(\"Base case\")\n",
    "        return 1\n",
    "    }else{\n",
    "        println(\"Rec Call\")\n",
    "        x*fact(x-1)\n",
    "    }\n",
    "}\n",
    "fact(10)"
   ]
  },
  {
   "cell_type": "code",
   "execution_count": 5,
   "metadata": {},
   "outputs": [
    {
     "data": {
      "text/plain": [
       "defined \u001b[32mfunction\u001b[39m \u001b[36mfact_k\u001b[39m"
      ]
     },
     "execution_count": 5,
     "metadata": {},
     "output_type": "execute_result"
    }
   ],
   "source": [
    "def fact_k(x:Int,k:Int=>Int):Int={\n",
    "    def kHat(result:Int):Int={\n",
    "        k(result*x)\n",
    "    }\n",
    "    if(x<=1){\n",
    "        println(\"Base case\")\n",
    "        k(1)\n",
    "    }else{\n",
    "        println(\"Rec Call\")\n",
    "        fact_k(x-1,kHat)\n",
    "    }\n",
    "}"
   ]
  },
  {
   "cell_type": "code",
   "execution_count": 6,
   "metadata": {},
   "outputs": [
    {
     "name": "stdout",
     "output_type": "stream",
     "text": [
      "Rec Call\n",
      "Rec Call\n",
      "Rec Call\n",
      "Base case\n"
     ]
    },
    {
     "data": {
      "text/plain": [
       "\u001b[36mres5\u001b[39m: \u001b[32mInt\u001b[39m = \u001b[32m24\u001b[39m"
      ]
     },
     "execution_count": 6,
     "metadata": {},
     "output_type": "execute_result"
    }
   ],
   "source": [
    "fact_k(4,x=>x)"
   ]
  },
  {
   "cell_type": "code",
   "execution_count": 7,
   "metadata": {},
   "outputs": [
    {
     "data": {
      "text/plain": [
       "defined \u001b[32mfunction\u001b[39m \u001b[36mfib\u001b[39m"
      ]
     },
     "execution_count": 7,
     "metadata": {},
     "output_type": "execute_result"
    }
   ],
   "source": [
    "def fib(x:Int):Int={\n",
    "    if(x<=2){\n",
    "        return 1\n",
    "    }else{\n",
    "        val v1=fib(x-1)\n",
    "        val v2=fib(x-2)\n",
    "        return (v1+v2)\n",
    "    }\n",
    "}"
   ]
  },
  {
   "cell_type": "code",
   "execution_count": null,
   "metadata": {},
   "outputs": [],
   "source": [
    "def fib_k(x:Int,k:Int=>Int):Int={\n",
    "    if(x<=2){\n",
    "        return k(1)\n",
    "    }else{\n",
    "        fib_k(x-1,kHat)\n",
    "    }\n",
    "    def kHat(result:Int):\n",
    "}"
   ]
  }
 ],
 "metadata": {
  "kernelspec": {
   "display_name": "Scala",
   "language": "scala",
   "name": "scala"
  },
  "language_info": {
   "codemirror_mode": "text/x-scala",
   "file_extension": ".scala",
   "mimetype": "text/x-scala",
   "name": "scala",
   "nbconvert_exporter": "script",
   "version": "2.12.8"
  }
 },
 "nbformat": 4,
 "nbformat_minor": 2
}
