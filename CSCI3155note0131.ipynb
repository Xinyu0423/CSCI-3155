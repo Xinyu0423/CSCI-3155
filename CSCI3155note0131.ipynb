{
 "cells": [
  {
   "cell_type": "code",
   "execution_count": 1,
   "metadata": {},
   "outputs": [
    {
     "data": {
      "text/plain": [
       "defined \u001b[32mtrait\u001b[39m \u001b[36mList\u001b[39m\n",
       "defined \u001b[32mclass\u001b[39m \u001b[36mCons\u001b[39m\n",
       "defined \u001b[32mobject\u001b[39m \u001b[36mNil\u001b[39m"
      ]
     },
     "execution_count": 1,
     "metadata": {},
     "output_type": "execute_result"
    }
   ],
   "source": [
    "sealed trait List{\n",
    "    def sum(): Int\n",
    "    def length():Int\n",
    "    //def Or():\n",
    "}\n",
    "case class Cons(j:Int, l:List)extends List{\n",
    "    def length():Int={\n",
    "        1+l.length()\n",
    "    }\n",
    "    def sum():Int={\n",
    "        j+l.sum()\n",
    "    }\n",
    "}\n",
    "case object Nil extends List{\n",
    "    def length():Int=0\n",
    "    def sum():Int=0\n",
    "}"
   ]
  },
  {
   "cell_type": "code",
   "execution_count": 6,
   "metadata": {},
   "outputs": [
    {
     "data": {
      "text/plain": [
       "\u001b[36ml1\u001b[39m: \u001b[32mNil\u001b[39m = Nil\n",
       "\u001b[36ml2\u001b[39m: \u001b[32mCons\u001b[39m = \u001b[33mCons\u001b[39m(\u001b[32m1\u001b[39m, \u001b[33mCons\u001b[39m(\u001b[32m2\u001b[39m, \u001b[33mCons\u001b[39m(\u001b[32m3\u001b[39m, Nil)))\n",
       "\u001b[36ml4\u001b[39m: \u001b[32mCons\u001b[39m = \u001b[33mCons\u001b[39m(\u001b[32m-2\u001b[39m, \u001b[33mCons\u001b[39m(\u001b[32m1\u001b[39m, \u001b[33mCons\u001b[39m(\u001b[32m2\u001b[39m, \u001b[33mCons\u001b[39m(\u001b[32m3\u001b[39m, Nil))))"
      ]
     },
     "execution_count": 6,
     "metadata": {},
     "output_type": "execute_result"
    }
   ],
   "source": [
    "val l1=Nil\n",
    "val l2=Cons(1, Cons(2,Cons(3,Nil)))\n",
    "val l4=Cons(-2,l2)"
   ]
  },
  {
   "cell_type": "code",
   "execution_count": 3,
   "metadata": {},
   "outputs": [
    {
     "data": {
      "text/plain": [
       "defined \u001b[32mfunction\u001b[39m \u001b[36mlength\u001b[39m"
      ]
     },
     "execution_count": 3,
     "metadata": {},
     "output_type": "execute_result"
    }
   ],
   "source": [
    "def length(l:List):Int=l match{\n",
    "    case Nil=>0\n",
    "    case Cons(_,l1)=>1+length(l1)\n",
    "}"
   ]
  },
  {
   "cell_type": "code",
   "execution_count": 4,
   "metadata": {},
   "outputs": [
    {
     "data": {
      "text/plain": [
       "defined \u001b[32mfunction\u001b[39m \u001b[36msum\u001b[39m"
      ]
     },
     "execution_count": 4,
     "metadata": {},
     "output_type": "execute_result"
    }
   ],
   "source": [
    "def sum(l:List):Int=l match{\n",
    "    case Nil=>return 0\n",
    "    case Cons(j,l1)=>j+sum(l1)\n",
    "}"
   ]
  },
  {
   "cell_type": "code",
   "execution_count": 9,
   "metadata": {},
   "outputs": [
    {
     "data": {
      "text/plain": [
       "defined \u001b[32mfunction\u001b[39m \u001b[36mreturnLastNumber\u001b[39m"
      ]
     },
     "execution_count": 9,
     "metadata": {},
     "output_type": "execute_result"
    }
   ],
   "source": [
    "def returnLastNumber(l:List):Int=l match{\n",
    "    case Nil=>0\n",
    "    case Cons(j, Nil)=>j\n",
    "    case Cons(_,l1)=>return returnLastNumber(l1)\n",
    "}"
   ]
  },
  {
   "cell_type": "code",
   "execution_count": 13,
   "metadata": {},
   "outputs": [
    {
     "name": "stderr",
     "output_type": "stream",
     "text": [
      "cmd13.sc:8: pattern type is incompatible with expected type;\n",
      " found   : cmd13.this.cmd0.Nil.type\n",
      " required: Int\n",
      "    case Nil=>true\n",
      "         ^cmd13.sc:9: constructor cannot be instantiated to expected type;\n",
      " found   : cmd13.this.cmd0.Cons\n",
      " required: Int\n",
      "    case Cons(_,Nil)=>true\n",
      "         ^cmd13.sc:10: constructor cannot be instantiated to expected type;\n",
      " found   : cmd13.this.cmd0.Cons\n",
      " required: Int\n",
      "    case Cons(j1,t1@ Cons(j2,_))=>{ if(j1>j2)\n",
      "         ^Compilation Failed"
     ]
    },
    {
     "ename": "",
     "evalue": "",
     "output_type": "error",
     "traceback": [
      "Compilation Failed"
     ]
    }
   ],
   "source": [
    "def isAscendingOrder(l:List):Boolean=l match{\n",
    "    case Nil=>true\n",
    "    case Cons(_,Nil)=>true\n",
    "    case Cons(j1, Cons(j2,_)) if j1>j2=>false\n",
    "    case Cons(j1,t1)=>isAscendingOrder(t1)\n",
    "}\n",
    "def isAscendingOrder3(l:List):Boolean=1 match{\n",
    "    case Nil=>true\n",
    "    case Cons(_,Nil)=>true\n",
    "    case Cons(j1,t1@ Cons(j2,_))=>{ if(j1>j2)\n",
    "                                       false\n",
    "                                   else\n",
    "                                       isAscendingOrder3(t1)\n",
    "    }\n",
    "}"
   ]
  },
  {
   "cell_type": "code",
   "execution_count": 13,
   "metadata": {},
   "outputs": [
    {
     "data": {
      "text/plain": [
       "\u001b[36mres12\u001b[39m: \u001b[32mBoolean\u001b[39m = true"
      ]
     },
     "execution_count": 13,
     "metadata": {},
     "output_type": "execute_result"
    }
   ],
   "source": [
    "isAscendingOrder(Cons(1,Cons(2, Cons(3,Nil))))"
   ]
  },
  {
   "cell_type": "code",
   "execution_count": null,
   "metadata": {},
   "outputs": [],
   "source": []
  }
 ],
 "metadata": {
  "kernelspec": {
   "display_name": "Scala",
   "language": "scala",
   "name": "scala"
  },
  "language_info": {
   "codemirror_mode": "text/x-scala",
   "file_extension": ".scala",
   "mimetype": "text/x-scala",
   "name": "scala",
   "nbconvert_exporter": "script",
   "version": "2.12.8"
  }
 },
 "nbformat": 4,
 "nbformat_minor": 2
}
