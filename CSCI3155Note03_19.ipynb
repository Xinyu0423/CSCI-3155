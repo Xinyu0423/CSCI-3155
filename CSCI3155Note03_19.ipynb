{
 "cells": [
  {
   "cell_type": "code",
   "execution_count": 3,
   "metadata": {},
   "outputs": [
    {
     "data": {
      "text/plain": [
       "defined \u001b[32mfunction\u001b[39m \u001b[36mfoo\u001b[39m"
      ]
     },
     "execution_count": 3,
     "metadata": {},
     "output_type": "execute_result"
    }
   ],
   "source": [
    "def foo(x:Int):Int={\n",
    "    if(x<=5){\n",
    "        return x\n",
    "    }else{\n",
    "        //spill\n",
    "        //foo(1+foo(x/2))\n",
    "        val v1=foo(x/2)\n",
    "        val v2=foo(1+v1)\n",
    "        return v2\n",
    "    }\n",
    "}"
   ]
  },
  {
   "cell_type": "code",
   "execution_count": 5,
   "metadata": {},
   "outputs": [
    {
     "data": {
      "text/plain": [
       "defined \u001b[32mfunction\u001b[39m \u001b[36mfoo_cont\u001b[39m"
      ]
     },
     "execution_count": 5,
     "metadata": {},
     "output_type": "execute_result"
    }
   ],
   "source": [
    "def foo_cont(x:Int,k:Int=>Int):Int={\n",
    "    if(x<=5){\n",
    "        return k(x)\n",
    "    }else{\n",
    "        foo_cont(x/2,v1=>{\n",
    "            val v3=1+v1\n",
    "            foo_cont(1+v1,v2=>{k(v2)})\n",
    "        })\n",
    "    }\n",
    "}"
   ]
  },
  {
   "cell_type": "code",
   "execution_count": 8,
   "metadata": {},
   "outputs": [
    {
     "data": {
      "text/plain": [
       "defined \u001b[32mfunction\u001b[39m \u001b[36maddUp\u001b[39m"
      ]
     },
     "execution_count": 8,
     "metadata": {},
     "output_type": "execute_result"
    }
   ],
   "source": [
    "def addUp(x:Int):Int={\n",
    "    if(x==0){\n",
    "        return 0\n",
    "    }else{\n",
    "        //addUp(1+addUp(x-2))\n",
    "        val v1=addUp(x-2)\n",
    "        val v2=addUp(1+v1)\n",
    "        return v2\n",
    "    }\n",
    "}"
   ]
  },
  {
   "cell_type": "code",
   "execution_count": 10,
   "metadata": {},
   "outputs": [
    {
     "data": {
      "text/plain": [
       "defined \u001b[32mfunction\u001b[39m \u001b[36maddUp_k\u001b[39m"
      ]
     },
     "execution_count": 10,
     "metadata": {},
     "output_type": "execute_result"
    }
   ],
   "source": [
    "def addUp_k(x:Int,k:Int=>Int):Int={\n",
    "    if(x==0){\n",
    "        return 0\n",
    "    }else\n",
    "        addUp_k(x-2, v1=>{\n",
    "            addUp_k(1+v1,v2=>{k(v2)})\n",
    "        })\n",
    "}"
   ]
  },
  {
   "cell_type": "code",
   "execution_count": 12,
   "metadata": {},
   "outputs": [
    {
     "data": {
      "text/plain": [
       "defined \u001b[32mtrait\u001b[39m \u001b[36mNumTree\u001b[39m\n",
       "defined \u001b[32mclass\u001b[39m \u001b[36mNode\u001b[39m\n",
       "defined \u001b[32mobject\u001b[39m \u001b[36mLeaf\u001b[39m"
      ]
     },
     "execution_count": 12,
     "metadata": {},
     "output_type": "execute_result"
    }
   ],
   "source": [
    "sealed trait NumTree\n",
    "case class Node(j:Int,lChild:NumTree,rChild:NumTree) extends NumTree\n",
    "case object Leaf extends NumTree"
   ]
  },
  {
   "cell_type": "code",
   "execution_count": 13,
   "metadata": {},
   "outputs": [
    {
     "data": {
      "text/plain": [
       "defined \u001b[32mfunction\u001b[39m \u001b[36mheightOfTree\u001b[39m"
      ]
     },
     "execution_count": 13,
     "metadata": {},
     "output_type": "execute_result"
    }
   ],
   "source": [
    "def heightOfTree(t:NumTree):Int =t match{\n",
    "    case Leaf=>0\n",
    "    case Node(j,lChild,rChild)=>{\n",
    "        val v1=heightOfTree(lChild)\n",
    "        val v2=heightOfTree(rChild)\n",
    "        return 1+math.max(v1,v2)\n",
    "    }\n",
    "}"
   ]
  },
  {
   "cell_type": "code",
   "execution_count": 15,
   "metadata": {},
   "outputs": [
    {
     "data": {
      "text/plain": [
       "defined \u001b[32mfunction\u001b[39m \u001b[36mheightOfTree_k\u001b[39m"
      ]
     },
     "execution_count": 15,
     "metadata": {},
     "output_type": "execute_result"
    }
   ],
   "source": [
    "def heightOfTree_k[T](t:NumTree,k:Int=>T):T=t match{\n",
    "    case Leaf=>k(0)\n",
    "    case Node(j,lChild,rChild)=>{\n",
    "        heightOfTree_k(lChild,v1=>{\n",
    "            heightOfTree_k(rChild,v2=>{\n",
    "                k(1+math.max(v1,v2))\n",
    "            })\n",
    "        })\n",
    "    }\n",
    "}"
   ]
  },
  {
   "cell_type": "code",
   "execution_count": 19,
   "metadata": {},
   "outputs": [
    {
     "data": {
      "text/plain": [
       "\u001b[36mres18\u001b[39m: \u001b[32mString\u001b[39m = \u001b[32m\"3\"\u001b[39m"
      ]
     },
     "execution_count": 19,
     "metadata": {},
     "output_type": "execute_result"
    }
   ],
   "source": [
    "heightOfTree_k[String](Node(1,Leaf,Node(2,Leaf,Node(3,Leaf,Leaf))),x=>x.toString)"
   ]
  },
  {
   "cell_type": "code",
   "execution_count": null,
   "metadata": {},
   "outputs": [],
   "source": []
  }
 ],
 "metadata": {
  "kernelspec": {
   "display_name": "Scala",
   "language": "scala",
   "name": "scala"
  },
  "language_info": {
   "codemirror_mode": "text/x-scala",
   "file_extension": ".scala",
   "mimetype": "text/x-scala",
   "name": "scala",
   "nbconvert_exporter": "script",
   "version": "2.12.8"
  }
 },
 "nbformat": 4,
 "nbformat_minor": 2
}
